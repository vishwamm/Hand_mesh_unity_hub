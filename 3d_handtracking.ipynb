{
 "cells": [
  {
   "cell_type": "code",
   "execution_count": 1,
   "metadata": {},
   "outputs": [],
   "source": [
    "import cv2\n",
    "import mediapipe as map\n",
    "#import handtrackingmodule as htm\n",
    "from cvzone.HandTrackingModule import HandDetector\n",
    "import socket"
   ]
  },
  {
   "cell_type": "code",
   "execution_count": 2,
   "metadata": {},
   "outputs": [],
   "source": [
    "cap=cv2.VideoCapture(0)\n",
    "w=1280\n",
    "h=720\n",
    "cap.set(3,w)\n",
    "cap.set(4,h)\n",
    "# haand detecctor\n",
    "detector=HandDetector(maxHands=1,detectionCon=0.8)\n",
    "#d=htm.handdetector()\n",
    "\n",
    "#communication\n",
    "sock=socket.socket(socket.AF_INET, socket.SOCK_DGRAM)\n",
    "serverAddress=(\"127.0.0.1\",5051)\n",
    "\n",
    "\n",
    "while  True:\n",
    "    ret, img = cap.read()\n",
    "    hands,img=detector.findHands(img)\n",
    "    data=[]\n",
    "    if hands:\n",
    "        hand=hands[0]\n",
    "        lmlist=hand['lmList']\n",
    "        for lm in  lmlist:\n",
    "            data.extend([lm[0],h-lm[1],lm[2]])\n",
    "        sock.sendto(str.encode(str(data)),serverAddress)\n",
    "    #img=d.findHands(img,draw=True)\n",
    "    #lmlist=d.findposition(img,draw=False)\n",
    "    #print(lmlist)\n",
    "    cv2.imshow(\"image\",img)\n",
    "    cv2.waitKey(1)"
   ]
  },
  {
   "cell_type": "code",
   "execution_count": null,
   "metadata": {},
   "outputs": [],
   "source": []
  }
 ],
 "metadata": {
  "kernelspec": {
   "display_name": "computervision",
   "language": "python",
   "name": "python3"
  },
  "language_info": {
   "codemirror_mode": {
    "name": "ipython",
    "version": 3
   },
   "file_extension": ".py",
   "mimetype": "text/x-python",
   "name": "python",
   "nbconvert_exporter": "python",
   "pygments_lexer": "ipython3",
   "version": "3.9.19"
  }
 },
 "nbformat": 4,
 "nbformat_minor": 2
}
